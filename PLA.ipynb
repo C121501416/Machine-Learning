{
 "cells": [
  {
   "cell_type": "code",
   "execution_count": 11,
   "metadata": {},
   "outputs": [
    {
     "name": "stdout",
     "output_type": "stream",
     "text": [
      "iteration : 1 (2 / 10)\n",
      "iteration : 2 (2 / 10)\n",
      "iteration : 3 (0 / 10)\n",
      "[ 0.    2.25 -0.2 ]\n"
     ]
    },
    {
     "data": {
      "image/png": "[encoded data removed]",
      "text/plain": [
       "<Figure size 432x288 with 1 Axes>"
      ]
     },
     "metadata": {},
     "output_type": "display_data"
    }
   ],
   "source": [
    "#Perceprton learning algorithm\n",
    "#2018/09/15\n",
    "#by Pan Jian An\n",
    "\n",
    "import numpy as np  \n",
    "import matplotlib.pyplot as plt\n",
    "\n",
    "#from network Linear Separable data\n",
    "\n",
    "X = np.array([\n",
    "    \n",
    "[1, -0.4, 0.3],\n",
    "[1, -0.3, -0.1],\n",
    "[1, -0.2, 0.4],\n",
    "[1, -0.1, 0.1],\n",
    "[1, -0.25, -1.5],\n",
    "[1, 0.9, -0.5],\n",
    "[1, 0.7, -0.9],\n",
    "[1, 0.8, 0.2],\n",
    "[1, 0.4, -0.6],\n",
    "[1, 0.25, -1], \n",
    "])\n",
    "\n",
    "Y = np.array([-1, -1, -1, -1, -1, 1, 1, 1, 1, 1])\n",
    "\n",
    "\n",
    "#print(np.dot([3,4],[3,4]))\n",
    "#\n",
    "#w = database[0][0]\n",
    "#print(w)\n",
    "#print(database[0])\n",
    "#temp = dot(w,database[0][0])\n",
    "#print(temp)\n",
    "\n",
    "def PLA(X,Y):\n",
    "    w = np.zeros(len(X[0]))\n",
    "    counter = 0\n",
    "    \n",
    "    while True:\n",
    "        counter = counter + 1\n",
    "        false_data = 0\n",
    "    \n",
    "        for i in range(len(X)): \n",
    "            temp = np.dot(w,X[i])\n",
    "            if np.sign(temp) != np.sign(Y[i]):\n",
    "                error = Y[i]\n",
    "                false_data = false_data + 1\n",
    "                w = w + error * X[i]\n",
    "        print(\"iteration : %d (%d / %d)\" %(counter,false_data,len(X)))\n",
    "        if false_data == 0 :\n",
    "            break\n",
    "    return w\n",
    "\n",
    "w=PLA(X,Y)\n",
    "print(w)\n",
    "\n",
    "# 畫圖\n",
    "for d,sample in enumerate(X):\n",
    "    if Y[d] == 1:\n",
    "        plt.scatter(sample[1], sample[2], s=20, c='b', marker='+', linewidths=1)\n",
    "    else:\n",
    "        plt.scatter(sample[1], sample[2], s=20, c='r', marker='_', linewidths=1)\n",
    "l = np.linspace(-1,1)\n",
    "a,b = -w[1]/w[2],-w[0]/w[2]\n",
    "plt.plot(l,a*l+b)\n",
    "plt.show()"
   ]
  },
  {
   "cell_type": "code",
   "execution_count": null,
   "metadata": {},
   "outputs": [],
   "source": []
  }
 ],
 "metadata": {
  "kernelspec": {
   "display_name": "Python 3",
   "language": "python",
   "name": "python3"
  },
  "language_info": {
   "codemirror_mode": {
    "name": "ipython",
    "version": 3
   },
   "file_extension": ".py",
   "mimetype": "text/x-python",
   "name": "python",
   "nbconvert_exporter": "python",
   "pygments_lexer": "ipython3",
   "version": "3.6.5"
  }
 },
 "nbformat": 4,
 "nbformat_minor": 2
}
